{
 "cells": [
  {
   "cell_type": "code",
   "execution_count": null,
   "id": "b38da0b7-3e33-4da9-94bb-16375fe0a99e",
   "metadata": {},
   "outputs": [],
   "source": [
    "from src.sequence_utils import sliding_gc\n",
    "\n"
   ]
  }
 ],
 "metadata": {
  "kernelspec": {
   "display_name": "Python 3 (ipykernel)",
   "language": "python",
   "name": "python3"
  },
  "language_info": {
   "codemirror_mode": {
    "name": "ipython",
    "version": 3
   },
   "file_extension": ".py",
   "mimetype": "text/x-python",
   "name": "python",
   "nbconvert_exporter": "python",
   "pygments_lexer": "ipython3",
   "version": "3.12.9"
  }
 },
 "nbformat": 4,
 "nbformat_minor": 5
}
