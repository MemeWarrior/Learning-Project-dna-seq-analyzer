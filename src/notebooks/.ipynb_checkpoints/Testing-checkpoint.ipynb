{
 "cells": [
  {
   "cell_type": "code",
   "execution_count": 7,
   "id": "b38da0b7-3e33-4da9-94bb-16375fe0a99e",
   "metadata": {},
   "outputs": [
    {
     "ename": "ModuleNotFoundError",
     "evalue": "No module named 'src'",
     "output_type": "error",
     "traceback": [
      "\u001b[31m---------------------------------------------------------------------------\u001b[39m",
      "\u001b[31mModuleNotFoundError\u001b[39m                       Traceback (most recent call last)",
      "\u001b[36mCell\u001b[39m\u001b[36m \u001b[39m\u001b[32mIn[7]\u001b[39m\u001b[32m, line 6\u001b[39m\n\u001b[32m      4\u001b[39m \u001b[38;5;28;01mimport\u001b[39;00m\u001b[38;5;250m \u001b[39m\u001b[34;01mseaborn\u001b[39;00m\u001b[38;5;250m \u001b[39m\u001b[38;5;28;01mas\u001b[39;00m\u001b[38;5;250m \u001b[39m\u001b[34;01msns\u001b[39;00m\n\u001b[32m      5\u001b[39m \u001b[38;5;28;01mfrom\u001b[39;00m\u001b[38;5;250m \u001b[39m\u001b[34;01mimportlib\u001b[39;00m\u001b[38;5;250m \u001b[39m\u001b[38;5;28;01mimport\u001b[39;00m reload\n\u001b[32m----> \u001b[39m\u001b[32m6\u001b[39m \u001b[38;5;28;01mfrom\u001b[39;00m\u001b[38;5;250m \u001b[39m\u001b[34;01msrc\u001b[39;00m\u001b[34;01m.\u001b[39;00m\u001b[34;01msequence_utils\u001b[39;00m\u001b[38;5;250m \u001b[39m\u001b[38;5;28;01mimport\u001b[39;00m DATA_DIR, sliding_gc\n\u001b[32m      8\u001b[39m sns.set_style(\u001b[33m\"\u001b[39m\u001b[33mdarkgrid\u001b[39m\u001b[33m\"\u001b[39m)\n\u001b[32m     10\u001b[39m recs = \u001b[38;5;28mlist\u001b[39m(SeqIO.parse(DATA_DIR / \u001b[33m\"\u001b[39m\u001b[33mdata/sample-NC_000913.fasta\u001b[39m\u001b[33m\"\u001b[39m, \u001b[33m\"\u001b[39m\u001b[33mfasta\u001b[39m\u001b[33m\"\u001b[39m)) \u001b[38;5;66;03m#This is a list of sequences recorded inside of the fasta file\u001b[39;00m\n",
      "\u001b[31mModuleNotFoundError\u001b[39m: No module named 'src'"
     ]
    }
   ],
   "source": [
    "from Bio import SeqIO\n",
    "import matplotlib.pyplot as plt\n",
    "from matplotlib.ticker import MaxNLocator\n",
    "import seaborn as sns\n",
    "from importlib import reload\n",
    "from src.sequence_utils import DATA_DIR, sliding_gc\n",
    "\n",
    "sns.set_style(\"darkgrid\")\n",
    "\n",
    "recs = list(SeqIO.parse(DATA_DIR / \"data/sample-NC_000913.fasta\", \"fasta\")) #This is a list of sequences recorded inside of the fasta file\n",
    "recs2 = list(SeqIO.parse(\"data/sample-rtropici.fasta\", \"fast\"))\n",
    "\n",
    "seq1 = recs[0]\n",
    "seq2 = recs[0]\n",
    "\n",
    "print(\"Imports Finished\")"
   ]
  },
  {
   "cell_type": "code",
   "execution_count": null,
   "id": "8c7bd3a0-c16c-43d5-ad00-0b36d83b057f",
   "metadata": {},
   "outputs": [],
   "source": [
    "from src.sequence_utils import sliding_gc\n",
    "\n",
    "positions, gc_values = sliding_gc(seq1, 100000,25000)\n",
    "\n"
   ]
  }
 ],
 "metadata": {
  "kernelspec": {
   "display_name": "Python 3 (ipykernel)",
   "language": "python",
   "name": "python3"
  },
  "language_info": {
   "codemirror_mode": {
    "name": "ipython",
    "version": 3
   },
   "file_extension": ".py",
   "mimetype": "text/x-python",
   "name": "python",
   "nbconvert_exporter": "python",
   "pygments_lexer": "ipython3",
   "version": "3.12.9"
  }
 },
 "nbformat": 4,
 "nbformat_minor": 5
}
